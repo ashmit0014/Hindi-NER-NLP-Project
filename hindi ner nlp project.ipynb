{
 "cells": [
  {
   "cell_type": "code",
   "execution_count": 20,
   "metadata": {
    "_cell_guid": "b1076dfc-b9ad-4769-8c92-a6c4dae69d19",
    "_uuid": "8f2839f25d086af736a60e9eeb907d3b93b6e0e5",
    "execution": {
     "iopub.execute_input": "2025-06-02T15:17:49.241178Z",
     "iopub.status.busy": "2025-06-02T15:17:49.240240Z",
     "iopub.status.idle": "2025-06-02T15:17:49.246441Z",
     "shell.execute_reply": "2025-06-02T15:17:49.245497Z",
     "shell.execute_reply.started": "2025-06-02T15:17:49.241139Z"
    },
    "trusted": true
   },
   "outputs": [],
   "source": [
    "# This Python 3 environment comes with many helpful analytics libraries installed\n",
    "# It is defined by the kaggle/python Docker image: https://github.com/kaggle/docker-python\n",
    "# For example, here's several helpful packages to load\n",
    "\n",
    "import numpy as np # linear algebra\n",
    "import pandas as pd # data processing, CSV file I/O (e.g. pd.read_csv)\n",
    "\n",
    "# Input data files are available in the read-only \"../input/\" directory\n",
    "# For example, running this (by clicking run or pressing Shift+Enter) will list all files under the input directory\n",
    "\n",
    "import os\n",
    "for dirname, _, filenames in os.walk('/kaggle/input'):\n",
    "    for filename in filenames:\n",
    "        print(os.path.join(dirname, filename))\n",
    "\n",
    "# You can write up to 20GB to the current directory (/kaggle/working/) that gets preserved as output when you create a version using \"Save & Run All\" \n",
    "# You can also write temporary files to /kaggle/temp/, but they won't be saved outside of the current session"
   ]
  },
  {
   "cell_type": "code",
   "execution_count": 21,
   "metadata": {
    "execution": {
     "iopub.execute_input": "2025-06-02T15:17:49.249542Z",
     "iopub.status.busy": "2025-06-02T15:17:49.249064Z",
     "iopub.status.idle": "2025-06-02T15:17:57.694565Z",
     "shell.execute_reply": "2025-06-02T15:17:57.693263Z",
     "shell.execute_reply.started": "2025-06-02T15:17:49.249516Z"
    },
    "trusted": true
   },
   "outputs": [
    {
     "name": "stdout",
     "output_type": "stream",
     "text": [
      "huggingface/tokenizers: The current process just got forked, after parallelism has already been used. Disabling parallelism to avoid deadlocks...\n",
      "To disable this warning, you can either:\n",
      "\t- Avoid using `tokenizers` before the fork if possible\n",
      "\t- Explicitly set the environment variable TOKENIZERS_PARALLELISM=(true | false)\n",
      "\u001b[33mWARNING: Running pip as the 'root' user can result in broken permissions and conflicting behaviour with the system package manager. It is recommended to use a virtual environment instead: https://pip.pypa.io/warnings/venv\u001b[0m\u001b[33m\n",
      "\u001b[0m"
     ]
    }
   ],
   "source": [
    "# Align the kernel with the UI\n",
    "!pip install --quiet \"ipywidgets>=8,<9\"  # e.g. 8.1.2 as of today\n",
    "# optional but avoids leftover cache problems\n",
    "import os, shutil, sys, importlib, pkg_resources; importlib.invalidate_caches()"
   ]
  },
  {
   "cell_type": "code",
   "execution_count": 22,
   "metadata": {
    "execution": {
     "iopub.execute_input": "2025-06-02T15:17:57.697327Z",
     "iopub.status.busy": "2025-06-02T15:17:57.696978Z",
     "iopub.status.idle": "2025-06-02T15:18:22.950631Z",
     "shell.execute_reply": "2025-06-02T15:18:22.949624Z",
     "shell.execute_reply.started": "2025-06-02T15:17:57.697292Z"
    },
    "trusted": true
   },
   "outputs": [
    {
     "name": "stdout",
     "output_type": "stream",
     "text": [
      "huggingface/tokenizers: The current process just got forked, after parallelism has already been used. Disabling parallelism to avoid deadlocks...\n",
      "To disable this warning, you can either:\n",
      "\t- Avoid using `tokenizers` before the fork if possible\n",
      "\t- Explicitly set the environment variable TOKENIZERS_PARALLELISM=(true | false)\n",
      "Requirement already satisfied: datasets in /opt/conda/lib/python3.7/site-packages (2.1.0)\n",
      "Requirement already satisfied: dill in /opt/conda/lib/python3.7/site-packages (from datasets) (0.3.6)\n",
      "Requirement already satisfied: pyarrow>=5.0.0 in /opt/conda/lib/python3.7/site-packages (from datasets) (5.0.0)\n",
      "Requirement already satisfied: tqdm>=4.62.1 in /opt/conda/lib/python3.7/site-packages (from datasets) (4.64.1)\n",
      "Requirement already satisfied: huggingface-hub<1.0.0,>=0.1.0 in /opt/conda/lib/python3.7/site-packages (from datasets) (0.13.3)\n",
      "Requirement already satisfied: packaging in /opt/conda/lib/python3.7/site-packages (from datasets) (23.0)\n",
      "Requirement already satisfied: pandas in /opt/conda/lib/python3.7/site-packages (from datasets) (1.3.5)\n",
      "Requirement already satisfied: requests>=2.19.0 in /opt/conda/lib/python3.7/site-packages (from datasets) (2.28.2)\n",
      "Requirement already satisfied: aiohttp in /opt/conda/lib/python3.7/site-packages (from datasets) (3.8.3)\n",
      "Requirement already satisfied: numpy>=1.17 in /opt/conda/lib/python3.7/site-packages (from datasets) (1.21.6)\n",
      "Requirement already satisfied: fsspec[http]>=2021.05.0 in /opt/conda/lib/python3.7/site-packages (from datasets) (2023.1.0)\n",
      "Requirement already satisfied: responses<0.19 in /opt/conda/lib/python3.7/site-packages (from datasets) (0.18.0)\n",
      "Requirement already satisfied: importlib-metadata in /opt/conda/lib/python3.7/site-packages (from datasets) (4.11.4)\n",
      "Requirement already satisfied: multiprocess in /opt/conda/lib/python3.7/site-packages (from datasets) (0.70.14)\n",
      "Requirement already satisfied: xxhash in /opt/conda/lib/python3.7/site-packages (from datasets) (3.2.0)\n",
      "Requirement already satisfied: multidict<7.0,>=4.5 in /opt/conda/lib/python3.7/site-packages (from aiohttp->datasets) (6.0.4)\n",
      "Requirement already satisfied: typing-extensions>=3.7.4 in /opt/conda/lib/python3.7/site-packages (from aiohttp->datasets) (4.4.0)\n",
      "Requirement already satisfied: async-timeout<5.0,>=4.0.0a3 in /opt/conda/lib/python3.7/site-packages (from aiohttp->datasets) (4.0.2)\n",
      "Requirement already satisfied: attrs>=17.3.0 in /opt/conda/lib/python3.7/site-packages (from aiohttp->datasets) (22.2.0)\n",
      "Requirement already satisfied: frozenlist>=1.1.1 in /opt/conda/lib/python3.7/site-packages (from aiohttp->datasets) (1.3.3)\n",
      "Requirement already satisfied: aiosignal>=1.1.2 in /opt/conda/lib/python3.7/site-packages (from aiohttp->datasets) (1.3.1)\n",
      "Requirement already satisfied: asynctest==0.13.0 in /opt/conda/lib/python3.7/site-packages (from aiohttp->datasets) (0.13.0)\n",
      "Requirement already satisfied: charset-normalizer<3.0,>=2.0 in /opt/conda/lib/python3.7/site-packages (from aiohttp->datasets) (2.1.1)\n",
      "Requirement already satisfied: yarl<2.0,>=1.0 in /opt/conda/lib/python3.7/site-packages (from aiohttp->datasets) (1.8.2)\n",
      "Requirement already satisfied: pyyaml>=5.1 in /opt/conda/lib/python3.7/site-packages (from huggingface-hub<1.0.0,>=0.1.0->datasets) (6.0)\n",
      "Requirement already satisfied: filelock in /opt/conda/lib/python3.7/site-packages (from huggingface-hub<1.0.0,>=0.1.0->datasets) (3.9.0)\n",
      "Requirement already satisfied: certifi>=2017.4.17 in /opt/conda/lib/python3.7/site-packages (from requests>=2.19.0->datasets) (2022.12.7)\n",
      "Requirement already satisfied: idna<4,>=2.5 in /opt/conda/lib/python3.7/site-packages (from requests>=2.19.0->datasets) (3.4)\n",
      "Requirement already satisfied: urllib3<1.27,>=1.21.1 in /opt/conda/lib/python3.7/site-packages (from requests>=2.19.0->datasets) (1.26.14)\n",
      "Requirement already satisfied: zipp>=0.5 in /opt/conda/lib/python3.7/site-packages (from importlib-metadata->datasets) (3.11.0)\n",
      "Requirement already satisfied: python-dateutil>=2.7.3 in /opt/conda/lib/python3.7/site-packages (from pandas->datasets) (2.8.2)\n",
      "Requirement already satisfied: pytz>=2017.3 in /opt/conda/lib/python3.7/site-packages (from pandas->datasets) (2023.3)\n",
      "Requirement already satisfied: six>=1.5 in /opt/conda/lib/python3.7/site-packages (from python-dateutil>=2.7.3->pandas->datasets) (1.16.0)\n",
      "\u001b[33mWARNING: Running pip as the 'root' user can result in broken permissions and conflicting behaviour with the system package manager. It is recommended to use a virtual environment instead: https://pip.pypa.io/warnings/venv\u001b[0m\u001b[33m\n",
      "\u001b[0mhuggingface/tokenizers: The current process just got forked, after parallelism has already been used. Disabling parallelism to avoid deadlocks...\n",
      "To disable this warning, you can either:\n",
      "\t- Avoid using `tokenizers` before the fork if possible\n",
      "\t- Explicitly set the environment variable TOKENIZERS_PARALLELISM=(true | false)\n",
      "Requirement already satisfied: tokenizers in /opt/conda/lib/python3.7/site-packages (0.13.2)\n",
      "\u001b[33mWARNING: Running pip as the 'root' user can result in broken permissions and conflicting behaviour with the system package manager. It is recommended to use a virtual environment instead: https://pip.pypa.io/warnings/venv\u001b[0m\u001b[33m\n",
      "\u001b[0mhuggingface/tokenizers: The current process just got forked, after parallelism has already been used. Disabling parallelism to avoid deadlocks...\n",
      "To disable this warning, you can either:\n",
      "\t- Avoid using `tokenizers` before the fork if possible\n",
      "\t- Explicitly set the environment variable TOKENIZERS_PARALLELISM=(true | false)\n",
      "Requirement already satisfied: transformers in /opt/conda/lib/python3.7/site-packages (4.27.4)\n",
      "Requirement already satisfied: regex!=2019.12.17 in /opt/conda/lib/python3.7/site-packages (from transformers) (2021.11.10)\n",
      "Requirement already satisfied: pyyaml>=5.1 in /opt/conda/lib/python3.7/site-packages (from transformers) (6.0)\n",
      "Requirement already satisfied: numpy>=1.17 in /opt/conda/lib/python3.7/site-packages (from transformers) (1.21.6)\n",
      "Requirement already satisfied: tqdm>=4.27 in /opt/conda/lib/python3.7/site-packages (from transformers) (4.64.1)\n",
      "Requirement already satisfied: tokenizers!=0.11.3,<0.14,>=0.11.1 in /opt/conda/lib/python3.7/site-packages (from transformers) (0.13.2)\n",
      "Requirement already satisfied: importlib-metadata in /opt/conda/lib/python3.7/site-packages (from transformers) (4.11.4)\n",
      "Requirement already satisfied: huggingface-hub<1.0,>=0.11.0 in /opt/conda/lib/python3.7/site-packages (from transformers) (0.13.3)\n",
      "Requirement already satisfied: requests in /opt/conda/lib/python3.7/site-packages (from transformers) (2.28.2)\n",
      "Requirement already satisfied: packaging>=20.0 in /opt/conda/lib/python3.7/site-packages (from transformers) (23.0)\n",
      "Requirement already satisfied: filelock in /opt/conda/lib/python3.7/site-packages (from transformers) (3.9.0)\n",
      "Requirement already satisfied: typing-extensions>=3.7.4.3 in /opt/conda/lib/python3.7/site-packages (from huggingface-hub<1.0,>=0.11.0->transformers) (4.4.0)\n",
      "Requirement already satisfied: zipp>=0.5 in /opt/conda/lib/python3.7/site-packages (from importlib-metadata->transformers) (3.11.0)\n",
      "Requirement already satisfied: urllib3<1.27,>=1.21.1 in /opt/conda/lib/python3.7/site-packages (from requests->transformers) (1.26.14)\n",
      "Requirement already satisfied: charset-normalizer<4,>=2 in /opt/conda/lib/python3.7/site-packages (from requests->transformers) (2.1.1)\n",
      "Requirement already satisfied: idna<4,>=2.5 in /opt/conda/lib/python3.7/site-packages (from requests->transformers) (3.4)\n",
      "Requirement already satisfied: certifi>=2017.4.17 in /opt/conda/lib/python3.7/site-packages (from requests->transformers) (2022.12.7)\n",
      "\u001b[33mWARNING: Running pip as the 'root' user can result in broken permissions and conflicting behaviour with the system package manager. It is recommended to use a virtual environment instead: https://pip.pypa.io/warnings/venv\u001b[0m\u001b[33m\n",
      "\u001b[0m"
     ]
    }
   ],
   "source": [
    "!pip install datasets\n",
    "!pip install tokenizers\n",
    "!pip install transformers"
   ]
  },
  {
   "cell_type": "code",
   "execution_count": 23,
   "metadata": {
    "execution": {
     "iopub.execute_input": "2025-06-02T15:18:22.952398Z",
     "iopub.status.busy": "2025-06-02T15:18:22.952090Z",
     "iopub.status.idle": "2025-06-02T15:18:31.249792Z",
     "shell.execute_reply": "2025-06-02T15:18:31.248424Z",
     "shell.execute_reply.started": "2025-06-02T15:18:22.952366Z"
    },
    "trusted": true
   },
   "outputs": [
    {
     "name": "stdout",
     "output_type": "stream",
     "text": [
      "huggingface/tokenizers: The current process just got forked, after parallelism has already been used. Disabling parallelism to avoid deadlocks...\n",
      "To disable this warning, you can either:\n",
      "\t- Avoid using `tokenizers` before the fork if possible\n",
      "\t- Explicitly set the environment variable TOKENIZERS_PARALLELISM=(true | false)\n",
      "Requirement already satisfied: seqeval in /opt/conda/lib/python3.7/site-packages (1.2.2)\n",
      "Requirement already satisfied: numpy>=1.14.0 in /opt/conda/lib/python3.7/site-packages (from seqeval) (1.21.6)\n",
      "Requirement already satisfied: scikit-learn>=0.21.3 in /opt/conda/lib/python3.7/site-packages (from seqeval) (1.0.2)\n",
      "Requirement already satisfied: threadpoolctl>=2.0.0 in /opt/conda/lib/python3.7/site-packages (from scikit-learn>=0.21.3->seqeval) (3.1.0)\n",
      "Requirement already satisfied: joblib>=0.11 in /opt/conda/lib/python3.7/site-packages (from scikit-learn>=0.21.3->seqeval) (1.2.0)\n",
      "Requirement already satisfied: scipy>=1.1.0 in /opt/conda/lib/python3.7/site-packages (from scikit-learn>=0.21.3->seqeval) (1.7.3)\n",
      "\u001b[33mWARNING: Running pip as the 'root' user can result in broken permissions and conflicting behaviour with the system package manager. It is recommended to use a virtual environment instead: https://pip.pypa.io/warnings/venv\u001b[0m\u001b[33m\n",
      "\u001b[0m"
     ]
    }
   ],
   "source": [
    "!pip install seqeval"
   ]
  },
  {
   "cell_type": "code",
   "execution_count": 24,
   "metadata": {
    "execution": {
     "iopub.execute_input": "2025-06-02T15:18:31.251797Z",
     "iopub.status.busy": "2025-06-02T15:18:31.251462Z",
     "iopub.status.idle": "2025-06-02T15:18:31.706377Z",
     "shell.execute_reply": "2025-06-02T15:18:31.705504Z",
     "shell.execute_reply.started": "2025-06-02T15:18:31.251763Z"
    },
    "trusted": true
   },
   "outputs": [
    {
     "data": {
      "application/vnd.jupyter.widget-view+json": {
       "model_id": "9871e9400a31427aa1062a6d7d3e4a55",
       "version_major": 2,
       "version_minor": 0
      },
      "text/plain": [
       "  0%|          | 0/3 [00:00<?, ?it/s]"
      ]
     },
     "metadata": {},
     "output_type": "display_data"
    }
   ],
   "source": [
    "from datasets import load_dataset\n",
    "\n",
    "dataset = load_dataset(\"wikiann\", \"hi\")"
   ]
  },
  {
   "cell_type": "code",
   "execution_count": 25,
   "metadata": {
    "execution": {
     "iopub.execute_input": "2025-06-02T15:18:31.709074Z",
     "iopub.status.busy": "2025-06-02T15:18:31.708760Z",
     "iopub.status.idle": "2025-06-02T15:18:31.715531Z",
     "shell.execute_reply": "2025-06-02T15:18:31.714482Z",
     "shell.execute_reply.started": "2025-06-02T15:18:31.709048Z"
    },
    "trusted": true
   },
   "outputs": [
    {
     "data": {
      "text/plain": [
       "{'tokens': Sequence(feature=Value(dtype='string', id=None), length=-1, id=None),\n",
       " 'ner_tags': Sequence(feature=ClassLabel(num_classes=7, names=['O', 'B-PER', 'I-PER', 'B-ORG', 'I-ORG', 'B-LOC', 'I-LOC'], id=None), length=-1, id=None),\n",
       " 'langs': Sequence(feature=Value(dtype='string', id=None), length=-1, id=None),\n",
       " 'spans': Sequence(feature=Value(dtype='string', id=None), length=-1, id=None)}"
      ]
     },
     "execution_count": 25,
     "metadata": {},
     "output_type": "execute_result"
    }
   ],
   "source": [
    "dataset[\"train\"].features"
   ]
  },
  {
   "cell_type": "code",
   "execution_count": 26,
   "metadata": {
    "execution": {
     "iopub.execute_input": "2025-06-02T15:18:31.716892Z",
     "iopub.status.busy": "2025-06-02T15:18:31.716601Z",
     "iopub.status.idle": "2025-06-02T15:18:31.728753Z",
     "shell.execute_reply": "2025-06-02T15:18:31.727894Z",
     "shell.execute_reply.started": "2025-06-02T15:18:31.716867Z"
    },
    "trusted": true
   },
   "outputs": [
    {
     "data": {
      "text/plain": [
       "['O', 'B-PER', 'I-PER', 'B-ORG', 'I-ORG', 'B-LOC', 'I-LOC']"
      ]
     },
     "execution_count": 26,
     "metadata": {},
     "output_type": "execute_result"
    }
   ],
   "source": [
    "label_names = dataset[\"train\"].features[\"ner_tags\"].feature.names\n",
    "label_names"
   ]
  },
  {
   "cell_type": "code",
   "execution_count": 27,
   "metadata": {
    "execution": {
     "iopub.execute_input": "2025-06-02T15:18:31.730591Z",
     "iopub.status.busy": "2025-06-02T15:18:31.729925Z",
     "iopub.status.idle": "2025-06-02T15:18:32.459646Z",
     "shell.execute_reply": "2025-06-02T15:18:32.458902Z",
     "shell.execute_reply.started": "2025-06-02T15:18:31.730564Z"
    },
    "trusted": true
   },
   "outputs": [
    {
     "data": {
      "application/vnd.jupyter.widget-view+json": {
       "model_id": "5a4eb23955364ea19860e457ef4b943c",
       "version_major": 2,
       "version_minor": 0
      },
      "text/plain": [
       "  0%|          | 0/1 [00:00<?, ?ba/s]"
      ]
     },
     "metadata": {},
     "output_type": "display_data"
    },
    {
     "data": {
      "application/vnd.jupyter.widget-view+json": {
       "model_id": "7c4fa477b8674bf8b6bd1226d9f788d4",
       "version_major": 2,
       "version_minor": 0
      },
      "text/plain": [
       "  0%|          | 0/1 [00:00<?, ?ba/s]"
      ]
     },
     "metadata": {},
     "output_type": "display_data"
    },
    {
     "data": {
      "application/vnd.jupyter.widget-view+json": {
       "model_id": "92d9c76fec304c90b05b8274971913cf",
       "version_major": 2,
       "version_minor": 0
      },
      "text/plain": [
       "  0%|          | 0/5 [00:00<?, ?ba/s]"
      ]
     },
     "metadata": {},
     "output_type": "display_data"
    }
   ],
   "source": [
    "from transformers import AutoTokenizer\n",
    "tokenizer = AutoTokenizer.from_pretrained(\"bert-base-multilingual-cased\")\n",
    "\n",
    "def tokenize_adjust_labels(all_samples_per_split):\n",
    "  tokenized_samples = tokenizer.batch_encode_plus(all_samples_per_split[\"tokens\"], is_split_into_words=True)\n",
    "  total_adjusted_labels = []\n",
    "  #print(len(tokenized_samples[\"input_ids\"]))\n",
    "  for k in range(0, len(tokenized_samples[\"input_ids\"])):\n",
    "    prev_wid = -1\n",
    "    word_ids_list = tokenized_samples.word_ids(batch_index=k)\n",
    "    existing_label_ids = all_samples_per_split[\"ner_tags\"][k]\n",
    "    i = -1\n",
    "    adjusted_label_ids = []\n",
    "   \n",
    "    for wid in word_ids_list:\n",
    "      if(wid is None):\n",
    "        adjusted_label_ids.append(-100)\n",
    "      elif(wid!=prev_wid):\n",
    "        i = i + 1\n",
    "        adjusted_label_ids.append(existing_label_ids[i])\n",
    "        prev_wid = wid\n",
    "      else:\n",
    "        label_name = label_names[existing_label_ids[i]]\n",
    "        adjusted_label_ids.append(existing_label_ids[i])\n",
    "        \n",
    "    total_adjusted_labels.append(adjusted_label_ids)\n",
    "  tokenized_samples[\"labels\"] = total_adjusted_labels\n",
    "  return tokenized_samples\n",
    "\n",
    "tokenized_dataset = dataset.map(tokenize_adjust_labels, batched=True)"
   ]
  },
  {
   "cell_type": "code",
   "execution_count": 28,
   "metadata": {
    "execution": {
     "iopub.execute_input": "2025-06-02T15:18:32.460939Z",
     "iopub.status.busy": "2025-06-02T15:18:32.460668Z",
     "iopub.status.idle": "2025-06-02T15:18:32.467142Z",
     "shell.execute_reply": "2025-06-02T15:18:32.466143Z",
     "shell.execute_reply.started": "2025-06-02T15:18:32.460911Z"
    },
    "trusted": true
   },
   "outputs": [
    {
     "data": {
      "text/plain": [
       "DatasetDict({\n",
       "    validation: Dataset({\n",
       "        features: ['tokens', 'ner_tags', 'langs', 'spans', 'input_ids', 'token_type_ids', 'attention_mask', 'labels'],\n",
       "        num_rows: 1000\n",
       "    })\n",
       "    test: Dataset({\n",
       "        features: ['tokens', 'ner_tags', 'langs', 'spans', 'input_ids', 'token_type_ids', 'attention_mask', 'labels'],\n",
       "        num_rows: 1000\n",
       "    })\n",
       "    train: Dataset({\n",
       "        features: ['tokens', 'ner_tags', 'langs', 'spans', 'input_ids', 'token_type_ids', 'attention_mask', 'labels'],\n",
       "        num_rows: 5000\n",
       "    })\n",
       "})"
      ]
     },
     "execution_count": 28,
     "metadata": {},
     "output_type": "execute_result"
    }
   ],
   "source": [
    "tokenized_dataset"
   ]
  },
  {
   "cell_type": "code",
   "execution_count": 29,
   "metadata": {
    "execution": {
     "iopub.execute_input": "2025-06-02T15:18:32.469360Z",
     "iopub.status.busy": "2025-06-02T15:18:32.468418Z",
     "iopub.status.idle": "2025-06-02T15:18:32.486025Z",
     "shell.execute_reply": "2025-06-02T15:18:32.484927Z",
     "shell.execute_reply.started": "2025-06-02T15:18:32.469321Z"
    },
    "trusted": true
   },
   "outputs": [
    {
     "data": {
      "text/plain": [
       "DatasetDict({\n",
       "    validation: Dataset({\n",
       "        features: ['tokens', 'ner_tags', 'langs', 'spans', 'input_ids', 'token_type_ids', 'attention_mask', 'labels'],\n",
       "        num_rows: 1000\n",
       "    })\n",
       "    test: Dataset({\n",
       "        features: ['tokens', 'ner_tags', 'langs', 'spans', 'input_ids', 'token_type_ids', 'attention_mask', 'labels'],\n",
       "        num_rows: 1000\n",
       "    })\n",
       "    train: Dataset({\n",
       "        features: ['tokens', 'ner_tags', 'langs', 'spans', 'input_ids', 'token_type_ids', 'attention_mask', 'labels'],\n",
       "        num_rows: 5000\n",
       "    })\n",
       "})"
      ]
     },
     "execution_count": 29,
     "metadata": {},
     "output_type": "execute_result"
    }
   ],
   "source": [
    "tokenized_dataset[\"train\"] = tokenized_dataset[\"train\"].select(range(5000))\n",
    "tokenized_dataset"
   ]
  },
  {
   "cell_type": "code",
   "execution_count": 30,
   "metadata": {
    "execution": {
     "iopub.execute_input": "2025-06-02T15:18:32.487471Z",
     "iopub.status.busy": "2025-06-02T15:18:32.487204Z",
     "iopub.status.idle": "2025-06-02T15:18:32.495570Z",
     "shell.execute_reply": "2025-06-02T15:18:32.494648Z",
     "shell.execute_reply.started": "2025-06-02T15:18:32.487448Z"
    },
    "trusted": true
   },
   "outputs": [],
   "source": [
    "from transformers import DataCollatorForTokenClassification\n",
    "\n",
    "data_collator = DataCollatorForTokenClassification(tokenizer)"
   ]
  },
  {
   "cell_type": "code",
   "execution_count": 31,
   "metadata": {
    "execution": {
     "iopub.execute_input": "2025-06-02T15:18:32.496729Z",
     "iopub.status.busy": "2025-06-02T15:18:32.496488Z",
     "iopub.status.idle": "2025-06-02T15:18:32.511288Z",
     "shell.execute_reply": "2025-06-02T15:18:32.510319Z",
     "shell.execute_reply.started": "2025-06-02T15:18:32.496706Z"
    },
    "trusted": true
   },
   "outputs": [
    {
     "data": {
      "text/plain": [
       "DataCollatorForTokenClassification(tokenizer=BertTokenizerFast(name_or_path='bert-base-multilingual-cased', vocab_size=119547, model_max_length=512, is_fast=True, padding_side='right', truncation_side='right', special_tokens={'unk_token': '[UNK]', 'sep_token': '[SEP]', 'pad_token': '[PAD]', 'cls_token': '[CLS]', 'mask_token': '[MASK]'}), padding=True, max_length=None, pad_to_multiple_of=None, label_pad_token_id=-100, return_tensors='pt')"
      ]
     },
     "execution_count": 31,
     "metadata": {},
     "output_type": "execute_result"
    }
   ],
   "source": [
    "data_collator"
   ]
  },
  {
   "cell_type": "code",
   "execution_count": 32,
   "metadata": {
    "execution": {
     "iopub.execute_input": "2025-06-02T15:18:32.513187Z",
     "iopub.status.busy": "2025-06-02T15:18:32.512666Z",
     "iopub.status.idle": "2025-06-02T15:18:32.769559Z",
     "shell.execute_reply": "2025-06-02T15:18:32.768844Z",
     "shell.execute_reply.started": "2025-06-02T15:18:32.513161Z"
    },
    "trusted": true
   },
   "outputs": [],
   "source": [
    "from transformers import AutoModelForTokenClassification, TrainingArguments, Trainer\n",
    "import numpy as np\n",
    "from datasets import load_metric\n",
    "metric = load_metric(\"seqeval\")\n",
    "def compute_metrics(p):\n",
    "    predictions, labels = p\n",
    "    predictions = np.argmax(predictions, axis=2)\n",
    "\n",
    "    true_predictions = [\n",
    "        [label_names[p] for (p, l) in zip(prediction, label) if l != -100]\n",
    "        for prediction, label in zip(predictions, labels)\n",
    "    ]\n",
    "    true_labels = [\n",
    "        [label_names[l] for (p, l) in zip(prediction, label) if l != -100]\n",
    "        for prediction, label in zip(predictions, labels)\n",
    "    ]\n",
    "\n",
    "    results = metric.compute(predictions=true_predictions, references=true_labels)\n",
    "    flattened_results = {\n",
    "        \"overall_precision\": results[\"overall_precision\"],\n",
    "        \"overall_recall\": results[\"overall_recall\"],\n",
    "        \"overall_f1\": results[\"overall_f1\"],\n",
    "        \"overall_accuracy\": results[\"overall_accuracy\"],\n",
    "    }\n",
    "    for k in results.keys():\n",
    "      if(k not in flattened_results.keys()):\n",
    "        flattened_results[k+\"_f1\"]=results[k][\"f1\"]\n",
    "\n",
    "    return flattened_results\n",
    "def compute_metrics(p):\n",
    "    predictions, labels = p\n",
    "    predictions = np.argmax(predictions, axis=2)\n",
    "\n",
    "    true_predictions = [\n",
    "        [label_names[p] for (p, l) in zip(prediction, label) if l != -100]\n",
    "        for prediction, label in zip(predictions, labels)\n",
    "    ]\n",
    "    true_labels = [\n",
    "        [label_names[l] for (p, l) in zip(prediction, label) if l != -100]\n",
    "        for prediction, label in zip(predictions, labels)\n",
    "    ]\n",
    "\n",
    "    results = metric.compute(predictions=true_predictions, references=true_labels)\n",
    "\n",
    "    flattened_results = {\n",
    "        \"overall_precision\": results[\"overall_precision\"],\n",
    "        \"overall_recall\": results[\"overall_recall\"],\n",
    "        \"overall_f1\": results[\"overall_f1\"],\n",
    "        \"overall_accuracy\": results[\"overall_accuracy\"],\n",
    "        \"accuracy\": results[\"overall_accuracy\"]  # required for logging eval_accuracy\n",
    "    }\n",
    "\n",
    "    for k in results:\n",
    "        if k not in flattened_results:\n",
    "            flattened_results[f\"{k}_f1\"] = results[k][\"f1\"]\n",
    "\n",
    "    return flattened_results"
   ]
  },
  {
   "cell_type": "code",
   "execution_count": 33,
   "metadata": {
    "execution": {
     "iopub.execute_input": "2025-06-02T15:18:32.770802Z",
     "iopub.status.busy": "2025-06-02T15:18:32.770535Z",
     "iopub.status.idle": "2025-06-02T15:24:23.550830Z",
     "shell.execute_reply": "2025-06-02T15:24:23.549659Z",
     "shell.execute_reply.started": "2025-06-02T15:18:32.770777Z"
    },
    "trusted": true
   },
   "outputs": [
    {
     "data": {
      "text/html": [
       "\n",
       "    <div>\n",
       "      \n",
       "      <progress value='3130' max='3130' style='width:300px; height:20px; vertical-align: middle;'></progress>\n",
       "      [3130/3130 05:47, Epoch 10/10]\n",
       "    </div>\n",
       "    <table border=\"1\" class=\"dataframe\">\n",
       "  <thead>\n",
       " <tr style=\"text-align: left;\">\n",
       "      <th>Step</th>\n",
       "      <th>Training Loss</th>\n",
       "      <th>Validation Loss</th>\n",
       "      <th>Overall Precision</th>\n",
       "      <th>Overall Recall</th>\n",
       "      <th>Overall F1</th>\n",
       "      <th>Overall Accuracy</th>\n",
       "      <th>Accuracy</th>\n",
       "      <th>Loc F1</th>\n",
       "      <th>Org F1</th>\n",
       "      <th>Per F1</th>\n",
       "    </tr>\n",
       "  </thead>\n",
       "  <tbody>\n",
       "    <tr>\n",
       "      <td>250</td>\n",
       "      <td>0.580800</td>\n",
       "      <td>0.377416</td>\n",
       "      <td>0.798198</td>\n",
       "      <td>0.814980</td>\n",
       "      <td>0.806502</td>\n",
       "      <td>0.881212</td>\n",
       "      <td>0.881212</td>\n",
       "      <td>0.770627</td>\n",
       "      <td>0.719690</td>\n",
       "      <td>0.904762</td>\n",
       "    </tr>\n",
       "    <tr>\n",
       "      <td>500</td>\n",
       "      <td>0.287400</td>\n",
       "      <td>0.346778</td>\n",
       "      <td>0.844716</td>\n",
       "      <td>0.854928</td>\n",
       "      <td>0.849791</td>\n",
       "      <td>0.910262</td>\n",
       "      <td>0.910262</td>\n",
       "      <td>0.826677</td>\n",
       "      <td>0.782609</td>\n",
       "      <td>0.912874</td>\n",
       "    </tr>\n",
       "    <tr>\n",
       "      <td>750</td>\n",
       "      <td>0.186900</td>\n",
       "      <td>0.348669</td>\n",
       "      <td>0.863577</td>\n",
       "      <td>0.866754</td>\n",
       "      <td>0.865163</td>\n",
       "      <td>0.915372</td>\n",
       "      <td>0.915372</td>\n",
       "      <td>0.839390</td>\n",
       "      <td>0.792871</td>\n",
       "      <td>0.937437</td>\n",
       "    </tr>\n",
       "    <tr>\n",
       "      <td>1000</td>\n",
       "      <td>0.154100</td>\n",
       "      <td>0.320215</td>\n",
       "      <td>0.876591</td>\n",
       "      <td>0.886728</td>\n",
       "      <td>0.881631</td>\n",
       "      <td>0.924612</td>\n",
       "      <td>0.924612</td>\n",
       "      <td>0.862364</td>\n",
       "      <td>0.821866</td>\n",
       "      <td>0.941216</td>\n",
       "    </tr>\n",
       "    <tr>\n",
       "      <td>1250</td>\n",
       "      <td>0.105200</td>\n",
       "      <td>0.326643</td>\n",
       "      <td>0.870968</td>\n",
       "      <td>0.886991</td>\n",
       "      <td>0.878906</td>\n",
       "      <td>0.922722</td>\n",
       "      <td>0.922722</td>\n",
       "      <td>0.862495</td>\n",
       "      <td>0.815825</td>\n",
       "      <td>0.939435</td>\n",
       "    </tr>\n",
       "    <tr>\n",
       "      <td>1500</td>\n",
       "      <td>0.075300</td>\n",
       "      <td>0.355608</td>\n",
       "      <td>0.877188</td>\n",
       "      <td>0.895401</td>\n",
       "      <td>0.886201</td>\n",
       "      <td>0.927201</td>\n",
       "      <td>0.927201</td>\n",
       "      <td>0.873315</td>\n",
       "      <td>0.825609</td>\n",
       "      <td>0.939647</td>\n",
       "    </tr>\n",
       "    <tr>\n",
       "      <td>1750</td>\n",
       "      <td>0.055600</td>\n",
       "      <td>0.380504</td>\n",
       "      <td>0.883871</td>\n",
       "      <td>0.900131</td>\n",
       "      <td>0.891927</td>\n",
       "      <td>0.931961</td>\n",
       "      <td>0.931961</td>\n",
       "      <td>0.881196</td>\n",
       "      <td>0.841360</td>\n",
       "      <td>0.936424</td>\n",
       "    </tr>\n",
       "    <tr>\n",
       "      <td>2000</td>\n",
       "      <td>0.036000</td>\n",
       "      <td>0.382616</td>\n",
       "      <td>0.896552</td>\n",
       "      <td>0.901971</td>\n",
       "      <td>0.899253</td>\n",
       "      <td>0.933711</td>\n",
       "      <td>0.933711</td>\n",
       "      <td>0.886977</td>\n",
       "      <td>0.842850</td>\n",
       "      <td>0.950287</td>\n",
       "    </tr>\n",
       "    <tr>\n",
       "      <td>2250</td>\n",
       "      <td>0.027000</td>\n",
       "      <td>0.395638</td>\n",
       "      <td>0.905477</td>\n",
       "      <td>0.903811</td>\n",
       "      <td>0.904643</td>\n",
       "      <td>0.939171</td>\n",
       "      <td>0.939171</td>\n",
       "      <td>0.883614</td>\n",
       "      <td>0.859804</td>\n",
       "      <td>0.954253</td>\n",
       "    </tr>\n",
       "    <tr>\n",
       "      <td>2500</td>\n",
       "      <td>0.023000</td>\n",
       "      <td>0.425317</td>\n",
       "      <td>0.899764</td>\n",
       "      <td>0.901183</td>\n",
       "      <td>0.900473</td>\n",
       "      <td>0.934761</td>\n",
       "      <td>0.934761</td>\n",
       "      <td>0.882284</td>\n",
       "      <td>0.850683</td>\n",
       "      <td>0.952316</td>\n",
       "    </tr>\n",
       "    <tr>\n",
       "      <td>2750</td>\n",
       "      <td>0.013600</td>\n",
       "      <td>0.415654</td>\n",
       "      <td>0.903200</td>\n",
       "      <td>0.904862</td>\n",
       "      <td>0.904030</td>\n",
       "      <td>0.938821</td>\n",
       "      <td>0.938821</td>\n",
       "      <td>0.882535</td>\n",
       "      <td>0.859337</td>\n",
       "      <td>0.954515</td>\n",
       "    </tr>\n",
       "    <tr>\n",
       "      <td>3000</td>\n",
       "      <td>0.011000</td>\n",
       "      <td>0.430734</td>\n",
       "      <td>0.902829</td>\n",
       "      <td>0.905913</td>\n",
       "      <td>0.904368</td>\n",
       "      <td>0.939171</td>\n",
       "      <td>0.939171</td>\n",
       "      <td>0.883057</td>\n",
       "      <td>0.860308</td>\n",
       "      <td>0.953992</td>\n",
       "    </tr>\n",
       "  </tbody>\n",
       "</table><p>"
      ],
      "text/plain": [
       "<IPython.core.display.HTML object>"
      ]
     },
     "metadata": {},
     "output_type": "display_data"
    },
    {
     "data": {
      "text/plain": [
       "TrainOutput(global_step=3130, training_loss=0.1249632296089928, metrics={'train_runtime': 348.0121, 'train_samples_per_second': 143.673, 'train_steps_per_second': 8.994, 'total_flos': 920287949060832.0, 'train_loss': 0.1249632296089928, 'epoch': 10.0})"
      ]
     },
     "execution_count": 33,
     "metadata": {},
     "output_type": "execute_result"
    }
   ],
   "source": [
    "model = AutoModelForTokenClassification.from_pretrained(\"bert-base-multilingual-cased\", num_labels=len(label_names))\n",
    "training_args = TrainingArguments(\n",
    "    output_dir=\"./fine_tune_bert_output\",\n",
    "    evaluation_strategy=\"steps\",\n",
    "    learning_rate=2e-5,\n",
    "    per_device_train_batch_size=16,\n",
    "    per_device_eval_batch_size=16,\n",
    "    num_train_epochs=10,\n",
    "    weight_decay=0.01,\n",
    "    logging_steps = 250,\n",
    "    report_to=\"none\",\n",
    "    run_name = \"hindi_ner_final_200-2\",\n",
    "    save_strategy='no',\n",
    ")\n",
    "trainer = Trainer(\n",
    "    model=model,\n",
    "    args=training_args,\n",
    "    train_dataset=tokenized_dataset[\"train\"],\n",
    "    eval_dataset=tokenized_dataset[\"validation\"],\n",
    "    data_collator=data_collator,\n",
    "    tokenizer=tokenizer,\n",
    "    compute_metrics=compute_metrics\n",
    ")\n",
    "\n",
    "trainer.train()"
   ]
  },
  {
   "cell_type": "code",
   "execution_count": 34,
   "metadata": {
    "execution": {
     "iopub.execute_input": "2025-06-02T15:24:23.555579Z",
     "iopub.status.busy": "2025-06-02T15:24:23.554936Z",
     "iopub.status.idle": "2025-06-02T15:24:25.810968Z",
     "shell.execute_reply": "2025-06-02T15:24:25.809993Z",
     "shell.execute_reply.started": "2025-06-02T15:24:23.555537Z"
    },
    "trusted": true
   },
   "outputs": [
    {
     "data": {
      "text/html": [],
      "text/plain": [
       "<IPython.core.display.HTML object>"
      ]
     },
     "metadata": {},
     "output_type": "display_data"
    },
    {
     "data": {
      "text/plain": [
       "{'LOC': {'precision': 0.9147286821705426,\n",
       "  'recall': 0.8887029288702929,\n",
       "  'f1': 0.901528013582343,\n",
       "  'number': 1195},\n",
       " 'ORG': {'precision': 0.8779527559055118,\n",
       "  'recall': 0.9046653144016227,\n",
       "  'f1': 0.891108891108891,\n",
       "  'number': 986},\n",
       " 'PER': {'precision': 0.9175324675324675,\n",
       "  'recall': 0.9540850776502363,\n",
       "  'f1': 0.9354518371400199,\n",
       "  'number': 1481},\n",
       " 'overall_precision': 0.9058380414312618,\n",
       " 'overall_recall': 0.9194429273620972,\n",
       " 'overall_f1': 0.9125897818132538,\n",
       " 'overall_accuracy': 0.9486066377258087}"
      ]
     },
     "execution_count": 34,
     "metadata": {},
     "output_type": "execute_result"
    }
   ],
   "source": [
    "predictions, labels, _ = trainer.predict(tokenized_dataset[\"test\"])\n",
    "predictions = np.argmax(predictions, axis=2)\n",
    "\n",
    "true_predictions = [\n",
    "[label_names[p] for (p, l) in zip(prediction, label) if l != -100] for prediction, label in zip(predictions, labels)]\n",
    "\n",
    "true_labels = [[label_names[l] for (p, l) in zip(prediction, label) if l != -100] for prediction, label in zip(predictions, labels)]\n",
    "\n",
    "results = metric.compute(predictions=true_predictions, references=true_labels)\n",
    "results"
   ]
  },
  {
   "cell_type": "code",
   "execution_count": 35,
   "metadata": {
    "execution": {
     "iopub.execute_input": "2025-06-02T15:24:25.812467Z",
     "iopub.status.busy": "2025-06-02T15:24:25.812174Z",
     "iopub.status.idle": "2025-06-02T15:24:26.140149Z",
     "shell.execute_reply": "2025-06-02T15:24:26.139274Z",
     "shell.execute_reply.started": "2025-06-02T15:24:25.812439Z"
    },
    "trusted": true
   },
   "outputs": [
    {
     "data": {
      "image/png": "[encoded data removed]",
      "text/plain": [
       "<Figure size 800x400 with 2 Axes>"
      ]
     },
     "metadata": {},
     "output_type": "display_data"
    }
   ],
   "source": [
    "import matplotlib.pyplot as plt\n",
    "\n",
    "logs = trainer.state.log_history\n",
    "\n",
    "epochs = []\n",
    "train_loss = []\n",
    "eval_loss = []\n",
    "eval_accuracy = []\n",
    "\n",
    "for log in logs:\n",
    "    if \"loss\" in log and \"epoch\" in log:\n",
    "        epochs.append(log[\"epoch\"])\n",
    "        train_loss.append(log[\"loss\"])\n",
    "    if \"eval_loss\" in log:\n",
    "        eval_loss.append(log[\"eval_loss\"])\n",
    "    if \"eval_accuracy\" in log:\n",
    "        eval_accuracy.append(log[\"eval_accuracy\"])\n",
    "\n",
    "plt.figure(figsize=(8, 4))\n",
    "plt.subplot(1, 2, 1)\n",
    "plt.plot(epochs[:len(train_loss)], train_loss, label=\"Training Loss\", marker=\"o\")\n",
    "plt.xlabel(\"Epochs\")\n",
    "plt.ylabel(\"Loss\")\n",
    "plt.title(\"Training Loss vs Epochs\")\n",
    "plt.grid(True)\n",
    "\n",
    "plt.subplot(1, 2, 2)\n",
    "plt.plot(epochs[:len(eval_accuracy)], eval_accuracy, label=\"Evaluation Accuracy\", marker=\"o\", color=\"green\")\n",
    "plt.xlabel(\"Epochs\")\n",
    "plt.ylabel(\"Accuracy\")\n",
    "plt.title(\"Eval Accuracy vs Epochs\")\n",
    "plt.grid(True)\n",
    "\n",
    "plt.tight_layout()\n",
    "plt.show()\n"
   ]
  },
  {
   "cell_type": "code",
   "execution_count": 40,
   "metadata": {
    "execution": {
     "iopub.execute_input": "2025-06-02T15:27:04.798148Z",
     "iopub.status.busy": "2025-06-02T15:27:04.797228Z",
     "iopub.status.idle": "2025-06-02T15:27:04.978375Z",
     "shell.execute_reply": "2025-06-02T15:27:04.977353Z",
     "shell.execute_reply.started": "2025-06-02T15:27:04.798109Z"
    },
    "trusted": true
   },
   "outputs": [
    {
     "data": {
      "image/png": "[encoded data removed]",
      "text/plain": [
       "<Figure size 400x400 with 1 Axes>"
      ]
     },
     "metadata": {},
     "output_type": "display_data"
    }
   ],
   "source": [
    "plt.figure(figsize=(4, 4))\n",
    "plt.plot(epochs[:len(eval_loss)], eval_loss, label=\"Evaluation Loss\", marker=\"o\", color=\"red\")\n",
    "plt.xlabel(\"Epochs\")\n",
    "plt.ylabel(\"Loss\")\n",
    "plt.title(\"Evaluation Loss vs Epochs\")\n",
    "plt.grid(True)\n",
    "plt.show()"
   ]
  },
  {
   "cell_type": "code",
   "execution_count": 37,
   "metadata": {
    "execution": {
     "iopub.execute_input": "2025-06-02T15:24:26.331774Z",
     "iopub.status.busy": "2025-06-02T15:24:26.331551Z",
     "iopub.status.idle": "2025-06-02T15:24:26.793209Z",
     "shell.execute_reply": "2025-06-02T15:24:26.792234Z",
     "shell.execute_reply.started": "2025-06-02T15:24:26.331752Z"
    },
    "trusted": true
   },
   "outputs": [
    {
     "name": "stdout",
     "output_type": "stream",
     "text": [
      "Confusion matrix:\n",
      "[[1073   58   16    8   11    4   25]\n",
      " [  27  900   36    0    5    0   18]\n",
      " [   4   16 1417    0    5    8   31]\n",
      " [   3    0    0  738   87   25   14]\n",
      " [   9    0    0   18 2501   53   21]\n",
      " [   1    0   11    5   42 1806    9]\n",
      " [  33   23   54    8   20   26 5113]]\n",
      "Heatmap\n"
     ]
    },
    {
     "data": {
      "text/plain": [
       "Text(0.5, 1.0, 'Confusion matrix')"
      ]
     },
     "execution_count": 37,
     "metadata": {},
     "output_type": "execute_result"
    },
    {
     "data": {
      "image/png": "[encoded data removed]",
      "text/plain": [
       "<Figure size 800x600 with 2 Axes>"
      ]
     },
     "metadata": {},
     "output_type": "display_data"
    }
   ],
   "source": [
    "from sklearn.metrics import confusion_matrix\n",
    "import numpy as np\n",
    "import seaborn as sns\n",
    "import matplotlib.pyplot as plt\n",
    "\n",
    "y_true = np.concatenate(true_labels)\n",
    "y_pred = np.concatenate(true_predictions)\n",
    "\n",
    "label_names = np.unique(np.concatenate((y_true, y_pred)))\n",
    "\n",
    "cm = confusion_matrix(y_true, y_pred, labels=label_names)\n",
    "\n",
    "print(\"Confusion matrix:\")\n",
    "print(cm)\n",
    "\n",
    "print(\"Heatmap\")\n",
    "plt.figure(figsize=(8,6))\n",
    "sns.heatmap(cm,annot=True) \n",
    "\n",
    "plt.xlabel(\"Predicted label\")\n",
    "plt.ylabel(\"True label\")\n",
    "plt.title(\"Confusion matrix\")"
   ]
  },
  {
   "cell_type": "code",
   "execution_count": 38,
   "metadata": {
    "execution": {
     "iopub.execute_input": "2025-06-02T15:24:26.794747Z",
     "iopub.status.busy": "2025-06-02T15:24:26.794447Z",
     "iopub.status.idle": "2025-06-02T15:24:26.821315Z",
     "shell.execute_reply": "2025-06-02T15:24:26.820415Z",
     "shell.execute_reply.started": "2025-06-02T15:24:26.794720Z"
    },
    "trusted": true
   },
   "outputs": [
    {
     "name": "stdout",
     "output_type": "stream",
     "text": [
      "Named Entities:\n",
      "राहुल → B-PER\n",
      "गांधी → I-PER\n",
      "दिल्ली → B-LOC\n"
     ]
    }
   ],
   "source": [
    "def get_entities(sentence, tokenizer, model, label_list):\n",
    "    import torch\n",
    "\n",
    "    model.eval()\n",
    "    device = torch.device(\"cuda\" if torch.cuda.is_available() else \"cpu\")\n",
    "    model.to(device)\n",
    "\n",
    "    words = sentence.strip().split()\n",
    "    tokens = tokenizer(words, return_tensors=\"pt\", is_split_into_words=True, truncation=True, return_offsets_mapping=True)\n",
    "    word_ids = tokens.word_ids()\n",
    "\n",
    "\n",
    "    input_tokens = {k: v.to(device) for k, v in tokens.items() if k != \"offset_mapping\"}\n",
    "\n",
    "    with torch.no_grad():\n",
    "        outputs = model(**input_tokens)\n",
    "\n",
    "    logits = outputs.logits\n",
    "    predictions = logits.argmax(dim=-1).squeeze(0).cpu().numpy()\n",
    "\n",
    "    results = []\n",
    "    seen = set()\n",
    "    for idx, word_id in enumerate(word_ids):\n",
    "        if word_id is None or word_id in seen:\n",
    "            continue\n",
    "        seen.add(word_id)\n",
    "        label_idx = predictions[idx]\n",
    "        label = label_list[label_idx]\n",
    "        if label != \"O\":\n",
    "            results.append((words[word_id], label))\n",
    "\n",
    "    return results\n",
    "\n",
    "label_list = ['O', 'B-PER', 'I-PER', 'B-ORG', 'I-ORG', 'B-LOC', 'I-LOC']\n",
    "\n",
    "# Test\n",
    "sentence = \"राहुल गांधी ने दिल्ली में एक रैली को संबोधित किया।\"\n",
    "entities = get_entities(sentence, tokenizer, model, label_list)\n",
    "\n",
    "print(\"Named Entities:\")\n",
    "for token, label in entities:\n",
    "    print(f\"{token} → {label}\")\n"
   ]
  }
 ],
 "metadata": {
  "kaggle": {
   "accelerator": "gpu",
   "dataSources": [],
   "dockerImageVersionId": 30461,
   "isGpuEnabled": true,
   "isInternetEnabled": true,
   "language": "python",
   "sourceType": "notebook"
  },
  "kernelspec": {
   "display_name": "Python 3",
   "language": "python",
   "name": "python3"
  },
  "language_info": {
   "codemirror_mode": {
    "name": "ipython",
    "version": 3
   },
   "file_extension": ".py",
   "mimetype": "text/x-python",
   "name": "python",
   "nbconvert_exporter": "python",
   "pygments_lexer": "ipython3",
   "version": "3.7.12"
  }
 },
 "nbformat": 4,
 "nbformat_minor": 4
}
